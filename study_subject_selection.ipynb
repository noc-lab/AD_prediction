{
 "cells": [
  {
   "cell_type": "code",
   "execution_count": 1,
   "metadata": {},
   "outputs": [],
   "source": [
    "import numpy as np\n",
    "import pandas as pd\n",
    "from datetime import datetime, timedelta"
   ]
  },
  {
   "cell_type": "code",
   "execution_count": 2,
   "metadata": {},
   "outputs": [],
   "source": [
    "df = pd.read_csv('remap_(764)_[1619]_20221031_13_29_55_0730_dvoice_progression_add_dod_demrv_date-AD.csv')"
   ]
  },
  {
   "cell_type": "code",
   "execution_count": 3,
   "metadata": {},
   "outputs": [],
   "source": [
    "df[\"date_\"] = df[\"date\"].apply(lambda s:datetime(year=int(str(s)[0:4]), month=int(str(s)[4:6]), day=int(str(s)[6:8])))\n",
    "df[\"date_of_death_\"] = df[\"date_of_death\"].apply(lambda s:datetime(year=int(str(s)[0:4]), month=int(str(s)[4:6]), day=int(str(s)[6:8])) if pd.notnull(s) else datetime(year=2021, month=6, day=15))\n",
    "df[\"review_date_str_\"] = df[\"review_date_str\"].apply(lambda s:datetime(year=int(str(s)[0:4]), month=int(str(s)[4:6]), day=int(str(s)[6:8])) if pd.notnull(s) else s)"
   ]
  },
  {
   "cell_type": "code",
   "execution_count": 4,
   "metadata": {},
   "outputs": [],
   "source": [
    "df[\"delta_death\"] = df[\"date_of_death_\"] - df[\"date_\"]\n",
    "df[\"delta_review\"] = df[\"review_date_str_\"] - df[\"date_\"]\n",
    "df[\"delta_death\"] = df[\"delta_death\"].apply(lambda x:x.days if pd.notnull(x) else +10000)\n",
    "df[\"delta_review\"] = df[\"delta_review\"].apply(lambda x:x.days)"
   ]
  },
  {
   "cell_type": "code",
   "execution_count": 5,
   "metadata": {},
   "outputs": [],
   "source": [
    "df['Patientid'] = (df['idtype']).astype(str)+'-'+(df['id']).astype(str)"
   ]
  },
  {
   "cell_type": "code",
   "execution_count": 6,
   "metadata": {},
   "outputs": [],
   "source": [
    "df_norm = df[df.is_norm == 1]\n",
    "df_mci = df[df.is_mci == 1]\n",
    "df_demented = df[df.is_demented == 1]"
   ]
  },
  {
   "cell_type": "code",
   "execution_count": 7,
   "metadata": {},
   "outputs": [],
   "source": [
    "def transition(data,days,type_T):\n",
    "    assert type_T in (\"NtoMCI\",\"MCItoD\")\n",
    "    if type_T == \"NtoMCI\":\n",
    "        df_norm = data.copy()\n",
    "        a_nn = ((df_norm.days_to_mci.isna()) & \n",
    "        (df_norm.days_to_mild_dementia.isna()) &\n",
    "        (df_norm.days_to_moderate_dementia.isna()) & \n",
    "        (df_norm.days_to_severe_dementia.isna()) & \n",
    "        ((df_norm.delta_death>days) & (df_norm.delta_review>days)))\n",
    "        \n",
    "        b_nn = ((df_norm.days_to_mci>days) | ((df_norm.days_to_mci.isna()) &\n",
    "        (df_norm.days_to_mild_dementia>days)) | ((df_norm.days_to_mci.isna()) &\n",
    "        (df_norm.days_to_mild_dementia.isna()) & (df_norm.days_to_severe_dementia>days)))\n",
    "        \n",
    "        df_NN = df_norm[a_nn|b_nn]\n",
    "        print(f\"number of unique N to N {df_NN.id_date.nunique()} in {days/365} years\")\n",
    "        \n",
    "        a_nmci = ((df_norm.days_to_mci<days) | ((df_norm.days_to_mci.isna()) & (df_norm.days_to_mild_dementia<days)) | \n",
    "                  ((df_norm.days_to_mci.isna()) & (df_norm.days_to_mild_dementia.isna()) & \n",
    "                   (df_norm.days_to_moderate_dementia<days)))\n",
    "        df_NMCI = df_norm[a_nmci]\n",
    "        print(f\"number of unique N to MCI {df_NMCI.id_date.nunique()} in {days/365} years\")\n",
    "        return df_NN, df_NMCI\n",
    "    else:\n",
    "        df_mci = data.copy()\n",
    "        a_mcimci = ((df_mci.days_to_mild_dementia.isna()) & (df_mci.days_to_moderate_dementia.isna()) & \n",
    "                    (df_mci.days_to_severe_dementia.isna()) &((df_mci.delta_death>days) & (df_mci.delta_review>days)))\n",
    "        b_mcimci = ((df_mci.days_to_mild_dementia>days) | ((df_mci.days_to_mild_dementia.isna()) &\n",
    "                    (df_mci.days_to_moderate_dementia>days)) | ((df_mci.days_to_mild_dementia.isna()) &\n",
    "                    (df_mci.days_to_moderate_dementia.isna()) & (df_mci.days_to_severe_dementia>days)))\n",
    "        df_MCIMCI = df_mci[a_mcimci | b_mcimci]\n",
    "        print(f\"number of unique MCI to MCI {df_MCIMCI.id_date.nunique()} in {days/365} years\")\n",
    "        \n",
    "        a_mcid = ((df_mci.days_to_mild_dementia<days)|((df_mci.days_to_mild_dementia.isna()) &\n",
    "                    (df_mci.days_to_moderate_dementia<days)) |((df_mci.days_to_mild_dementia.isna()) &\n",
    "                    (df_mci.days_to_moderate_dementia.isna()) & (df_mci.days_to_severe_dementia<days)))\n",
    "        df_MCID = df_mci[a_mcid]\n",
    "        print(f\"number of unique MCI to D {df_MCID.id_date.nunique()} in {days/365} years\")\n",
    "        return df_MCIMCI,df_MCID\n",
    "        "
   ]
  },
  {
   "cell_type": "code",
   "execution_count": null,
   "metadata": {},
   "outputs": [],
   "source": [
    "# for n_year in [1,2,3,4,5,6,7]:\n",
    "#     df1,df2 = transition(df_norm,365*n_year,\"NtoMCI\")\n",
    "#     df3,df4 = transition(df_mci,365*n_year,\"MCItoD\")\n",
    "#     df1.to_pickle(f\"data/NtoN_{n_year}.pkl\")\n",
    "#     df2.to_pickle(f\"data/NtoMCI_{n_year}.pkl\")\n",
    "#     df3.to_pickle(f\"data/MCItoMCI_{n_year}.pkl\")\n",
    "#     df4.to_pickle(f\"data/MCItoD_{n_year}.pkl\")"
   ]
  }
 ],
 "metadata": {
  "kernelspec": {
   "display_name": "Python 3 (ipykernel)",
   "language": "python",
   "name": "python3"
  },
  "language_info": {
   "codemirror_mode": {
    "name": "ipython",
    "version": 3
   },
   "file_extension": ".py",
   "mimetype": "text/x-python",
   "name": "python",
   "nbconvert_exporter": "python",
   "pygments_lexer": "ipython3",
   "version": "3.7.0"
  }
 },
 "nbformat": 4,
 "nbformat_minor": 2
}
